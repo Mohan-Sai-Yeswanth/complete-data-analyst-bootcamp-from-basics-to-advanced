{
 "cells": [
  {
   "cell_type": "markdown",
   "id": "96df228a",
   "metadata": {},
   "source": [
    "### Assignment 1: Simple if Statement\n",
    "\n",
    "Write a program that asks the user to input a number and prints whether the number is positive."
   ]
  },
  {
   "cell_type": "code",
   "execution_count": 1,
   "id": "9d4492f0",
   "metadata": {},
   "outputs": [
    {
     "name": "stdin",
     "output_type": "stream",
     "text": [
      " 5\n"
     ]
    },
    {
     "name": "stdout",
     "output_type": "stream",
     "text": [
      "positive\n"
     ]
    }
   ],
   "source": [
    "# Write your code here\n",
    "a = int(input())\n",
    "if a > 0:\n",
    "    print(\"positive\")\n",
    "else:\n",
    "    print(\"Not positive\")"
   ]
  },
  {
   "cell_type": "markdown",
   "id": "3737a569",
   "metadata": {},
   "source": [
    "### Assignment 2: if-else Statement\n",
    "\n",
    "Write a program that asks the user to input a number and prints whether the number is positive or negative."
   ]
  },
  {
   "cell_type": "code",
   "execution_count": 3,
   "id": "e06de3fb",
   "metadata": {},
   "outputs": [
    {
     "name": "stdin",
     "output_type": "stream",
     "text": [
      " 5\n"
     ]
    },
    {
     "name": "stdout",
     "output_type": "stream",
     "text": [
      "positive\n"
     ]
    }
   ],
   "source": [
    "# Write your code here\n",
    "a = int(input())\n",
    "if a > 0:\n",
    "    print(\"positive\")\n",
    "elif a < 0:\n",
    "    print(\"Negetive\")\n"
   ]
  },
  {
   "cell_type": "markdown",
   "id": "df005441",
   "metadata": {},
   "source": [
    "### Assignment 3: if-elif-else Statement\n",
    "\n",
    "Write a program that asks the user to input a number and prints whether the number is positive, negative, or zero."
   ]
  },
  {
   "cell_type": "code",
   "execution_count": 4,
   "id": "b63a1ef5",
   "metadata": {},
   "outputs": [
    {
     "name": "stdin",
     "output_type": "stream",
     "text": [
      " -6\n"
     ]
    },
    {
     "name": "stdout",
     "output_type": "stream",
     "text": [
      "Negetive\n"
     ]
    }
   ],
   "source": [
    "# Write your code here\n",
    "a = int(input())\n",
    "if a > 0:\n",
    "    print(\"positive\")\n",
    "elif a < 0:\n",
    "    print(\"Negetive\")\n",
    "else:\n",
    "    print(\"Zero\")"
   ]
  },
  {
   "cell_type": "markdown",
   "id": "5eb1e4ab",
   "metadata": {},
   "source": [
    "### Assignment 4: Nested if Statement\n",
    "\n",
    "Write a program that asks the user to input a number and prints whether the number is positive and even, positive and odd, or negative."
   ]
  },
  {
   "cell_type": "code",
   "execution_count": 5,
   "id": "ed34b6db",
   "metadata": {},
   "outputs": [
    {
     "name": "stdin",
     "output_type": "stream",
     "text": [
      " 4\n"
     ]
    },
    {
     "name": "stdout",
     "output_type": "stream",
     "text": [
      "positive\n",
      "even\n"
     ]
    }
   ],
   "source": [
    "# Write your code here\n",
    "a = int(input())\n",
    "if a > 0:\n",
    "    print(\"positive\")\n",
    "    if a%2 == 0:\n",
    "        print(\"even\")\n",
    "    else:\n",
    "        print(\"odd\")\n",
    "else:\n",
    "    print(\"negetive\")"
   ]
  },
  {
   "cell_type": "markdown",
   "id": "88dfeda8",
   "metadata": {},
   "source": [
    "### Assignment 5: for Loop\n",
    "\n",
    "Write a program that prints all the numbers from 1 to 10 using a for loop."
   ]
  },
  {
   "cell_type": "code",
   "execution_count": 6,
   "id": "48b29284",
   "metadata": {},
   "outputs": [
    {
     "name": "stdout",
     "output_type": "stream",
     "text": [
      "1\n",
      "2\n",
      "3\n",
      "4\n",
      "5\n",
      "6\n",
      "7\n",
      "8\n",
      "9\n",
      "10\n"
     ]
    }
   ],
   "source": [
    "# Write your code here\n",
    "for i in range(1,11):\n",
    "    print(i)"
   ]
  },
  {
   "cell_type": "markdown",
   "id": "90da25a7",
   "metadata": {},
   "source": [
    "### Assignment 6: while Loop\n",
    "\n",
    "Write a program that prints all the numbers from 1 to 10 using a while loop."
   ]
  },
  {
   "cell_type": "code",
   "execution_count": 7,
   "id": "907dd42f",
   "metadata": {},
   "outputs": [
    {
     "name": "stdout",
     "output_type": "stream",
     "text": [
      "1\n",
      "2\n",
      "3\n",
      "4\n",
      "5\n",
      "6\n",
      "7\n",
      "8\n",
      "9\n",
      "10\n"
     ]
    }
   ],
   "source": [
    "num = 1\n",
    "while num <= 10:\n",
    "    print(num)\n",
    "    num += 1\n"
   ]
  },
  {
   "cell_type": "markdown",
   "id": "29f7c2b5",
   "metadata": {},
   "source": [
    "### Assignment 7: Nested Loops\n",
    "\n",
    "Write a program that prints a 5x5 grid of asterisks (*) using nested loops."
   ]
  },
  {
   "cell_type": "code",
   "execution_count": null,
   "id": "cde64846",
   "metadata": {},
   "outputs": [],
   "source": [
    "# Write your code here\n",
    "for i in range(5):  # Outer loop for rows\n",
    "    for j in range(5):  # Inner loop for columns\n",
    "        print(\"*\", end=\" \")  # Print * with space\n",
    "    print()  # Newline after each row\n"
   ]
  },
  {
   "cell_type": "markdown",
   "id": "7d4851c4",
   "metadata": {},
   "source": [
    "### Assignment 8: break Statement\n",
    "\n",
    "Write a program that asks the user to input numbers until they input 0. The program should print the sum of all the input numbers."
   ]
  },
  {
   "cell_type": "code",
   "execution_count": 8,
   "id": "a2bd964d",
   "metadata": {},
   "outputs": [
    {
     "name": "stdin",
     "output_type": "stream",
     "text": [
      "Enter a number (0 to stop):  5\n",
      "Enter a number (0 to stop):  4\n",
      "Enter a number (0 to stop):  5\n",
      "Enter a number (0 to stop):  0\n"
     ]
    },
    {
     "name": "stdout",
     "output_type": "stream",
     "text": [
      "The sum of all numbers is: 14\n"
     ]
    }
   ],
   "source": [
    "# Write your code here\n",
    "total = 0\n",
    "while True:\n",
    "    num = int(input(\"Enter a number (0 to stop): \"))\n",
    "    if num == 0:\n",
    "        break\n",
    "    total += num\n",
    "\n",
    "print(\"The sum of all numbers is:\", total)\n"
   ]
  },
  {
   "cell_type": "markdown",
   "id": "a50e12b0",
   "metadata": {},
   "source": [
    "### Assignment 9: continue Statement\n",
    "\n",
    "Write a program that prints all the numbers from 1 to 10 except 5 using a for loop and continue statement."
   ]
  },
  {
   "cell_type": "code",
   "execution_count": 9,
   "id": "a44f53bc",
   "metadata": {},
   "outputs": [
    {
     "name": "stdout",
     "output_type": "stream",
     "text": [
      "1\n",
      "2\n",
      "3\n",
      "4\n",
      "6\n",
      "7\n",
      "8\n",
      "9\n",
      "10\n"
     ]
    }
   ],
   "source": [
    "# Write your code here\n",
    "for num in range(1, 11):\n",
    "    if num == 5:\n",
    "        continue\n",
    "    print(num)"
   ]
  },
  {
   "cell_type": "markdown",
   "id": "bd969367",
   "metadata": {},
   "source": [
    "### Assignment 10: pass Statement\n",
    "\n",
    "Write a program that defines an empty function using the pass statement."
   ]
  },
  {
   "cell_type": "code",
   "execution_count": 14,
   "id": "821c19c3",
   "metadata": {},
   "outputs": [],
   "source": [
    "# Write your code here\n",
    "def empty_function():\n",
    "    pass\n"
   ]
  },
  {
   "cell_type": "markdown",
   "id": "01cc644e",
   "metadata": {},
   "source": [
    "### Assignment 11: Combining Loops and Conditionals\n",
    "\n",
    "Write a program that asks the user to input a number and prints all the even numbers from 1 to that number using a for loop."
   ]
  },
  {
   "cell_type": "code",
   "execution_count": 12,
   "id": "57dde256",
   "metadata": {},
   "outputs": [
    {
     "name": "stdin",
     "output_type": "stream",
     "text": [
      " 10\n"
     ]
    },
    {
     "name": "stdout",
     "output_type": "stream",
     "text": [
      "2\n",
      "4\n",
      "6\n",
      "8\n",
      "10\n"
     ]
    }
   ],
   "source": [
    "# Write your code here\n",
    "n = int(input())\n",
    "for i in range(1,n+1):\n",
    "    if i%2 == 0:\n",
    "        print(i)"
   ]
  },
  {
   "cell_type": "markdown",
   "id": "f7e6dad5",
   "metadata": {},
   "source": [
    "### Assignment 12: Factorial Calculation\n",
    "\n",
    "Write a program that calculates the factorial of a number input by the user using a while loop."
   ]
  },
  {
   "cell_type": "code",
   "execution_count": 15,
   "id": "791bb710",
   "metadata": {},
   "outputs": [
    {
     "name": "stdin",
     "output_type": "stream",
     "text": [
      "Enter a number:  5\n"
     ]
    },
    {
     "name": "stdout",
     "output_type": "stream",
     "text": [
      "The factorial is: 120\n"
     ]
    }
   ],
   "source": [
    "# Write your code here\n",
    "num = int(input(\"Enter a number: \"))\n",
    "factorial = 1\n",
    "\n",
    "while num > 1:\n",
    "    factorial *= num\n",
    "    num -= 1\n",
    "\n",
    "print(\"The factorial is:\", factorial)\n"
   ]
  },
  {
   "cell_type": "markdown",
   "id": "e40674e5",
   "metadata": {},
   "source": [
    "### Assignment 13: Sum of Digits\n",
    "\n",
    "Write a program that calculates the sum of the digits of a number input by the user using a while loop."
   ]
  },
  {
   "cell_type": "code",
   "execution_count": 17,
   "id": "e7fcc130",
   "metadata": {},
   "outputs": [
    {
     "name": "stdin",
     "output_type": "stream",
     "text": [
      "Enter a number:  25\n"
     ]
    },
    {
     "name": "stdout",
     "output_type": "stream",
     "text": [
      "The sum of the digits is: 7\n"
     ]
    }
   ],
   "source": [
    "num = int(input(\"Enter a number: \"))\n",
    "sum_of_digits = 0\n",
    "\n",
    "while num > 0:\n",
    "    sum_of_digits += num % 10  # Add the last digit to the sum\n",
    "    num //= 10  # Remove the last digit\n",
    "\n",
    "print(\"The sum of the digits is:\", sum_of_digits)\n"
   ]
  },
  {
   "cell_type": "markdown",
   "id": "4698b077",
   "metadata": {},
   "source": [
    "### Assignment 14: Prime Number Check\n",
    "\n",
    "Write a program that checks if a number input by the user is a prime number using a for loop."
   ]
  },
  {
   "cell_type": "code",
   "execution_count": 18,
   "id": "61320c1d",
   "metadata": {},
   "outputs": [
    {
     "name": "stdin",
     "output_type": "stream",
     "text": [
      "Enter a number:  10\n"
     ]
    },
    {
     "name": "stdout",
     "output_type": "stream",
     "text": [
      "10 is not a prime number.\n"
     ]
    }
   ],
   "source": [
    "# Write your code here\n",
    "num = int(input(\"Enter a number: \"))\n",
    "\n",
    "if num <= 1:\n",
    "    print(num, \"is not a prime number.\")\n",
    "else:\n",
    "    is_prime = True\n",
    "    for i in range(2, num):\n",
    "        if num % i == 0:\n",
    "            is_prime = False\n",
    "            break\n",
    "\n",
    "    if is_prime:\n",
    "        print(num, \"is a prime number.\")\n",
    "    else:\n",
    "        print(num, \"is not a prime number.\")\n"
   ]
  },
  {
   "cell_type": "markdown",
   "id": "7ecb5586",
   "metadata": {},
   "source": [
    "### Assignment 15: Fibonacci Sequence\n",
    "\n",
    "Write a program that prints the first n Fibonacci numbers, where n is input by the user."
   ]
  },
  {
   "cell_type": "code",
   "execution_count": 19,
   "id": "c7af6327",
   "metadata": {},
   "outputs": [
    {
     "name": "stdin",
     "output_type": "stream",
     "text": [
      "Enter the number of Fibonacci numbers to display:  10\n"
     ]
    },
    {
     "name": "stdout",
     "output_type": "stream",
     "text": [
      "0 1 1 2 3 5 8 13 21 34 "
     ]
    }
   ],
   "source": [
    "# Write your code here\n",
    "n = int(input(\"Enter the number of Fibonacci numbers to display: \"))\n",
    "\n",
    "a, b = 0, 1\n",
    "\n",
    "for _ in range(n):\n",
    "    print(a, end=\" \")\n",
    "    a, b = b, a + b\n"
   ]
  },
  {
   "cell_type": "code",
   "execution_count": null,
   "id": "88c1934d-eefb-44c9-a863-274fb0676b2c",
   "metadata": {},
   "outputs": [],
   "source": []
  }
 ],
 "metadata": {
  "kernelspec": {
   "display_name": "Python 3 (ipykernel)",
   "language": "python",
   "name": "python3"
  },
  "language_info": {
   "codemirror_mode": {
    "name": "ipython",
    "version": 3
   },
   "file_extension": ".py",
   "mimetype": "text/x-python",
   "name": "python",
   "nbconvert_exporter": "python",
   "pygments_lexer": "ipython3",
   "version": "3.11.7"
  }
 },
 "nbformat": 4,
 "nbformat_minor": 5
}
