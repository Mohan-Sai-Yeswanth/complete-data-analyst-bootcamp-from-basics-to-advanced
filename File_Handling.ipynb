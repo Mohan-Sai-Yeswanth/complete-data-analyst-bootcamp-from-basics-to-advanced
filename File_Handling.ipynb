{
 "cells": [
  {
   "cell_type": "code",
   "execution_count": null,
   "id": "85f827be-8d2f-4fa3-b3ef-b0c8ec2324d0",
   "metadata": {},
   "outputs": [],
   "source": [
    "#File Operation- Read And Write Files\n",
    "#File handling is a crucial part of any programming language. Python provides built-in functions and methods to read from and write to files, both text and binary. This lesson will cover the basics of file handling, including reading and writing text files and binary files."
   ]
  },
  {
   "cell_type": "code",
   "execution_count": 1,
   "id": "e6779ffb-371b-4f04-9a13-b786e3ea5428",
   "metadata": {},
   "outputs": [
    {
     "name": "stdout",
     "output_type": "stream",
     "text": [
      "Hello\n"
     ]
    }
   ],
   "source": [
    "### Read a Whole File\n",
    "\n",
    "with open('example.txt','r') as file:\n",
    "    content=file.read()\n",
    "    print(content)"
   ]
  },
  {
   "cell_type": "code",
   "execution_count": 2,
   "id": "15726544-5fd5-47fe-beeb-daf1e00f671c",
   "metadata": {},
   "outputs": [
    {
     "name": "stdout",
     "output_type": "stream",
     "text": [
      "Hello\n"
     ]
    }
   ],
   "source": [
    "## Read a file line by line\n",
    "with open('example.txt','r') as file:\n",
    "    for line in file:\n",
    "        print(line.strip()) ## sstrip() removes the newline character"
   ]
  },
  {
   "cell_type": "code",
   "execution_count": 3,
   "id": "b4c6d1ab-ba1e-411c-ad54-4ff74e4f81bc",
   "metadata": {},
   "outputs": [],
   "source": [
    "## Writing a file(Overwriting)\n",
    "\n",
    "with open('example.txt','w') as file:\n",
    "    file.write('Hello World!\\n')\n",
    "    file.write('this is a new line.')"
   ]
  },
  {
   "cell_type": "code",
   "execution_count": 4,
   "id": "78f0ead0-b04b-410d-8e71-492d07343852",
   "metadata": {},
   "outputs": [],
   "source": [
    "## Write a file(wwithout Overwriting)\n",
    "with open('example.txt','a') as file:\n",
    "    file.write(\"Append operation taking place!\\n\")"
   ]
  },
  {
   "cell_type": "code",
   "execution_count": 5,
   "id": "93b7c2bf-db36-4337-b68d-1989bbbfd88f",
   "metadata": {},
   "outputs": [],
   "source": [
    "### Writing a list of lines to a file\n",
    "lines=['First line \\n','Second line \\n','Third line\\n']\n",
    "with open('example.txt','a') as file:\n",
    "    file.writelines(lines)"
   ]
  },
  {
   "cell_type": "code",
   "execution_count": 6,
   "id": "2a7b46de-c5b3-4377-9db0-7fa9a32ff8fa",
   "metadata": {},
   "outputs": [],
   "source": [
    "### Binary Files\n",
    "\n",
    "# Writing to a binary file\n",
    "data = b'\\x00\\x01\\x02\\x03\\x04'\n",
    "with open('example.bin', 'wb') as file:\n",
    "    file.write(data)\n"
   ]
  },
  {
   "cell_type": "code",
   "execution_count": 7,
   "id": "93956a88-76da-4b24-9820-d8e54be4a156",
   "metadata": {},
   "outputs": [
    {
     "name": "stdout",
     "output_type": "stream",
     "text": [
      "b'\\x00\\x01\\x02\\x03\\x04'\n"
     ]
    }
   ],
   "source": [
    "# Reading a binary file\n",
    "with open('example.bin', 'rb') as file:\n",
    "    content = file.read()\n",
    "    print(content)"
   ]
  },
  {
   "cell_type": "code",
   "execution_count": null,
   "id": "dd5607e8-9149-45fd-b711-ceb5ccc49791",
   "metadata": {},
   "outputs": [],
   "source": [
    "### Read the content froma  source text fiile and write to a destination text file\n",
    "# Copying a text file\n",
    "with open('example.txt', 'r') as source_file:\n",
    "    content = source_file.read()\n",
    "\n",
    "with open('destination.txt', 'w') as destination_file:\n",
    "    destination_file.write(content)\n"
   ]
  }
 ],
 "metadata": {
  "kernelspec": {
   "display_name": "Python 3 (ipykernel)",
   "language": "python",
   "name": "python3"
  },
  "language_info": {
   "codemirror_mode": {
    "name": "ipython",
    "version": 3
   },
   "file_extension": ".py",
   "mimetype": "text/x-python",
   "name": "python",
   "nbconvert_exporter": "python",
   "pygments_lexer": "ipython3",
   "version": "3.11.7"
  }
 },
 "nbformat": 4,
 "nbformat_minor": 5
}
