{
 "cells": [
  {
   "cell_type": "markdown",
   "id": "7afe4250",
   "metadata": {},
   "source": [
    "# Module: Pandas Assignments\n",
    "## Lesson: Pandas\n",
    "### Assignment 1: DataFrame Creation and Indexing\n",
    "\n",
    "1. Create a Pandas DataFrame with 4 columns and 6 rows filled with random integers. Set the index to be the first column.\n",
    "2. Create a Pandas DataFrame with columns 'A', 'B', 'C' and index 'X', 'Y', 'Z'. Fill the DataFrame with random integers and access the element at row 'Y' and column 'B'.\n",
    "\n",
    "### Assignment 2: DataFrame Operations\n",
    "\n",
    "1. Create a Pandas DataFrame with 3 columns and 5 rows filled with random integers. Add a new column that is the product of the first two columns.\n",
    "2. Create a Pandas DataFrame with 3 columns and 4 rows filled with random integers. Compute the row-wise and column-wise sum.\n",
    "\n",
    "### Assignment 3: Data Cleaning\n",
    "\n",
    "1. Create a Pandas DataFrame with 3 columns and 5 rows filled with random integers. Introduce some NaN values. Fill the NaN values with the mean of the respective columns.\n",
    "2. Create a Pandas DataFrame with 4 columns and 6 rows filled with random integers. Introduce some NaN values. Drop the rows with any NaN values.\n",
    "\n",
    "### Assignment 4: Data Aggregation\n",
    "\n",
    "1. Create a Pandas DataFrame with 2 columns: 'Category' and 'Value'. Fill the 'Category' column with random categories ('A', 'B', 'C') and the 'Value' column with random integers. Group the DataFrame by 'Category' and compute the sum and mean of 'Value' for each category.\n",
    "2. Create a Pandas DataFrame with 3 columns: 'Product', 'Category', and 'Sales'. Fill the DataFrame with random data. Group the DataFrame by 'Category' and compute the total sales for each category.\n",
    "\n",
    "### Assignment 5: Merging DataFrames\n",
    "\n",
    "1. Create two Pandas DataFrames with a common column. Merge the DataFrames using the common column.\n",
    "2. Create two Pandas DataFrames with different columns. Concatenate the DataFrames along the rows and along the columns.\n",
    "\n",
    "### Assignment 6: Time Series Analysis\n",
    "\n",
    "1. Create a Pandas DataFrame with a datetime index and one column filled with random integers. Resample the DataFrame to compute the monthly mean of the values.\n",
    "2. Create a Pandas DataFrame with a datetime index ranging from '2021-01-01' to '2021-12-31' and one column filled with random integers. Compute the rolling mean with a window of 7 days.\n",
    "\n",
    "### Assignment 7: MultiIndex DataFrame\n",
    "\n",
    "1. Create a Pandas DataFrame with a MultiIndex (hierarchical index). Perform some basic indexing and slicing operations on the MultiIndex DataFrame.\n",
    "2. Create a Pandas DataFrame with MultiIndex consisting of 'Category' and 'SubCategory'. Fill the DataFrame with random data and compute the sum of values for each 'Category' and 'SubCategory'.\n",
    "\n",
    "### Assignment 8: Pivot Tables\n",
    "\n",
    "1. Create a Pandas DataFrame with columns 'Date', 'Category', and 'Value'. Create a pivot table to compute the sum of 'Value' for each 'Category' by 'Date'.\n",
    "2. Create a Pandas DataFrame with columns 'Year', 'Quarter', and 'Revenue'. Create a pivot table to compute the mean 'Revenue' for each 'Quarter' by 'Year'.\n",
    "\n",
    "### Assignment 9: Applying Functions\n",
    "\n",
    "1. Create a Pandas DataFrame with 3 columns and 5 rows filled with random integers. Apply a function that doubles the values of the DataFrame.\n",
    "2. Create a Pandas DataFrame with 3 columns and 6 rows filled with random integers. Apply a lambda function to create a new column that is the sum of the existing columns.\n",
    "\n",
    "### Assignment 10: Working with Text Data\n",
    "\n",
    "1. Create a Pandas Series with 5 random text strings. Convert all the strings to uppercase.\n",
    "2. Create a Pandas Series with 5 random text strings. Extract the first three characters of each string.\n"
   ]
  },
  {
   "cell_type": "code",
   "execution_count": 13,
   "id": "a6a4a6ea",
   "metadata": {},
   "outputs": [
    {
     "name": "stdout",
     "output_type": "stream",
     "text": [
      "Dataframe = \n",
      "     A   B   C   D\n",
      "0  30  10  16  34\n",
      "1  17  15  30  42\n",
      "2  11  36  44  13\n",
      "3  11   2  43  32\n",
      "4  31  23  16  13\n",
      "5   7  41  38  35\n",
      "Modified Dataframe = \n",
      "      B   C   D\n",
      "A             \n",
      "30  10  16  34\n",
      "17  15  30  42\n",
      "11  36  44  13\n",
      "11   2  43  32\n",
      "31  23  16  13\n",
      "7   41  38  35\n"
     ]
    }
   ],
   "source": [
    "#Assignment 1: DataFrame Creation and Indexing\n",
    "#1. Create a Pandas DataFrame with 4 columns and 6 rows filled with random integers. Set the index to be the first column. \n",
    "import numpy as np\n",
    "import pandas as pd\n",
    "\n",
    "df = pd.DataFrame(np.random.randint(1,50,size=(6,4)),columns = ['A','B','C','D'])\n",
    "print(\"Dataframe = \\n\",df)\n",
    "\n",
    "df.set_index('A',inplace = True)\n",
    "print(\"Modified Dataframe = \\n\",df)"
   ]
  },
  {
   "cell_type": "code",
   "execution_count": 14,
   "id": "a142fa4d-08d3-412d-973b-baeaa2480cf3",
   "metadata": {},
   "outputs": [
    {
     "name": "stdout",
     "output_type": "stream",
     "text": [
      "Dataframe = \n",
      "     A   B   C\n",
      "X  41   8  31\n",
      "Y  28   1  31\n",
      "Z  40  39  33\n",
      "Elements at row Y and column B =  1\n"
     ]
    }
   ],
   "source": [
    "#Assignment 1: DataFrame Creation and Indexing\n",
    "#2. Create a Pandas DataFrame with columns 'A', 'B', 'C' and index 'X', 'Y', 'Z'. Fill the DataFrame with random integers and access the element at row 'Y' and column 'B'.\n",
    "\n",
    "import pandas as pd\n",
    "import numpy as np\n",
    "\n",
    "df = pd.DataFrame(np.random.randint(1,50,size = (3,3)),columns = ['A','B','C'],index = ['X','Y','Z'])\n",
    "print(\"Dataframe = \\n\",df)\n",
    "\n",
    "ele = df.at['Y','B']\n",
    "print(\"Elements at row Y and column B = \",ele)\n",
    "                  "
   ]
  },
  {
   "cell_type": "code",
   "execution_count": 12,
   "id": "0246fc51-765e-4de8-8ffb-35a2e64493d4",
   "metadata": {},
   "outputs": [
    {
     "name": "stdout",
     "output_type": "stream",
     "text": [
      "Dataframe = \n",
      "     A   B   C\n",
      "0  17   7  30\n",
      "1  39  45  29\n",
      "2  22  10  48\n",
      "3  34  26  31\n",
      "4  42  36  45\n",
      "Modified_dataframe = \n",
      "     A   B   C     D\n",
      "0  17   7  30   119\n",
      "1  39  45  29  1755\n",
      "2  22  10  48   220\n",
      "3  34  26  31   884\n",
      "4  42  36  45  1512\n"
     ]
    }
   ],
   "source": [
    "#Assignment 2: DataFrame Operations\n",
    "#1. Create a Pandas DataFrame with 3 columns and 5 rows filled with random integers. Add a new column that is the product of the first two columns.\n",
    "\n",
    "import pandas as pd\n",
    "import numpy as np\n",
    "\n",
    "df = pd.DataFrame(np.random.randint(1,50,size = (5,3)),columns = ['A','B','C'])\n",
    "print(\"Dataframe = \\n\",df)\n",
    "\n",
    "df['D'] = df['A']*df['B']\n",
    "print(\"Modified_dataframe = \\n\",df)"
   ]
  },
  {
   "cell_type": "code",
   "execution_count": 17,
   "id": "965275f8-64f4-4b26-a355-49e0960202a2",
   "metadata": {},
   "outputs": [
    {
     "name": "stdout",
     "output_type": "stream",
     "text": [
      "Dataframe = \n",
      "     A   B   C\n",
      "0  36   4  31\n",
      "1  29  26  15\n",
      "2   7   4   1\n",
      "3  14  10   9\n",
      "Row-wise sum = \n",
      " 0    71\n",
      "1    70\n",
      "2    12\n",
      "3    33\n",
      "dtype: int64\n",
      "Column-wise sum = \n",
      " A    86\n",
      "B    44\n",
      "C    56\n",
      "dtype: int64\n"
     ]
    }
   ],
   "source": [
    "#Assignment 2: DataFrame Operations\n",
    "#2. Create a Pandas DataFrame with 3 columns and 4 rows filled with random integers. Compute the row-wise and column-wise sum.\n",
    "\n",
    "import pandas as pd\n",
    "import numpy as np\n",
    "\n",
    "df = pd.DataFrame(np.random.randint(1,50,size = (4,3)),columns = ['A','B','C'])\n",
    "print(\"Dataframe = \\n\",df)\n",
    "\n",
    "r_sum = df.sum(axis = 1)\n",
    "c_sum = df.sum(axis = 0)\n",
    "\n",
    "print(\"Row-wise sum = \\n\",r_sum)\n",
    "print(\"Column-wise sum = \\n\",c_sum)"
   ]
  },
  {
   "cell_type": "code",
   "execution_count": 21,
   "id": "9157de15-a284-4505-84f6-1c0ebd9fc01c",
   "metadata": {},
   "outputs": [
    {
     "name": "stdout",
     "output_type": "stream",
     "text": [
      "Dataframe = \n",
      "     A   B   C\n",
      "0   4  16  45\n",
      "1  11  49   6\n",
      "2  48  19   3\n",
      "3  25  21  34\n",
      "4  45  19   8\n",
      "Modified dataframe = \n",
      "       A     B     C\n",
      "0   4.0   NaN  45.0\n",
      "1  11.0  49.0   6.0\n",
      "2  48.0  19.0   NaN\n",
      "3  25.0  21.0  34.0\n",
      "4   NaN  19.0   8.0\n",
      "Final dataframe = \n",
      "       A     B      C\n",
      "0   4.0  27.0  45.00\n",
      "1  11.0  49.0   6.00\n",
      "2  48.0  19.0  23.25\n",
      "3  25.0  21.0  34.00\n",
      "4  22.0  19.0   8.00\n"
     ]
    }
   ],
   "source": [
    "#Assignment 3: Data Cleaning\n",
    "#1. Create a Pandas DataFrame with 3 columns and 5 rows filled with random integers. Introduce some NaN values. Fill the NaN values with the mean of the respective columns.\n",
    "\n",
    "import pandas as pd\n",
    "import numpy as np\n",
    "\n",
    "df = pd.DataFrame(np.random.randint(1,50,size = (5,3)),columns = ['A','B','C'])\n",
    "print(\"Dataframe = \\n\",df)\n",
    "\n",
    "#introduce NAN values\n",
    "\n",
    "df.iloc[0,1] = np.nan\n",
    "df.iloc[2,2] = np.nan\n",
    "df.iloc[4,0] = np.nan\n",
    "print(\"Modified dataframe = \\n\",df)\n",
    "\n",
    "df.fillna(df.mean(), inplace = True)\n",
    "print(\"Final dataframe = \\n\",df)"
   ]
  },
  {
   "cell_type": "code",
   "execution_count": 25,
   "id": "0b484f8c-a27a-4939-bd98-828c20bf3c4c",
   "metadata": {},
   "outputs": [
    {
     "name": "stdout",
     "output_type": "stream",
     "text": [
      "Dataframe = \n",
      "     A   B   C   D\n",
      "0   1  17  23  15\n",
      "1  14  25  17  41\n",
      "2  49  27   9  42\n",
      "3  25  23  44   8\n",
      "4  14   6  15  28\n",
      "5  14  14   1  10\n",
      "Modified dataframe = \n",
      "       A     B     C   D\n",
      "0   1.0   NaN  23.0  15\n",
      "1  14.0  25.0  17.0  41\n",
      "2  49.0  27.0   NaN  42\n",
      "3  25.0  23.0  44.0   8\n",
      "4   NaN   6.0  15.0  28\n",
      "5  14.0  14.0   1.0  10\n",
      "Final dataframe = \n",
      "       A     B     C   D\n",
      "1  14.0  25.0  17.0  41\n",
      "3  25.0  23.0  44.0   8\n",
      "5  14.0  14.0   1.0  10\n"
     ]
    }
   ],
   "source": [
    "#Assignment 3: Data Cleaning\n",
    "#2. Create a Pandas DataFrame with 4 columns and 6 rows filled with random integers. Introduce some NaN values. Drop the rows with any NaN values.\n",
    "import pandas as pd\n",
    "import numpy as np\n",
    "\n",
    "df = pd.DataFrame(np.random.randint(1,50,size = (6,4)),columns = ['A','B','C','D'])\n",
    "print(\"Dataframe = \\n\",df)\n",
    "\n",
    "#introduce NAN values\n",
    "\n",
    "df.iloc[0,1] = np.nan\n",
    "df.iloc[2,2] = np.nan\n",
    "df.iloc[4,0] = np.nan\n",
    "print(\"Modified dataframe = \\n\",df)\n",
    "\n",
    "df.dropna(inplace = True)\n",
    "print(\"Final dataframe = \\n\",df)\n"
   ]
  },
  {
   "cell_type": "code",
   "execution_count": 26,
   "id": "05de5d35-440d-46f4-aeb5-ce6ef6da6aa3",
   "metadata": {},
   "outputs": [
    {
     "name": "stdout",
     "output_type": "stream",
     "text": [
      "DataFrame = \n",
      "   Category  Value\n",
      "0        C     76\n",
      "1        C     72\n",
      "2        B     35\n",
      "3        C     91\n",
      "4        A     94\n",
      "5        A     14\n",
      "6        A     58\n",
      "7        B     52\n",
      "8        A     83\n",
      "9        A     22\n",
      "Grouped dataframe = \n",
      "           sum       mean\n",
      "Category                \n",
      "A         271  54.200000\n",
      "B          87  43.500000\n",
      "C         239  79.666667\n"
     ]
    }
   ],
   "source": [
    "#Assignment 4: Data Aggregation\n",
    "#1. Create a Pandas DataFrame with 2 columns: 'Category' and 'Value'. Fill the 'Category' column with random categories ('A', 'B', 'C') and the 'Value' column with random integers. Group the DataFrame by 'Category' and compute the sum and mean of 'Value' for each category.\n",
    "\n",
    "import pandas as pd\n",
    "import numpy as np\n",
    "\n",
    "df = pd.DataFrame({'Category': np.random.choice(['A', 'B', 'C'], size=10), 'Value': np.random.randint(1, 100, size=10)})\n",
    "print(\"DataFrame = \\n\",df)\n",
    "\n",
    "grouped = df.groupby('Category')['Value'].agg(['sum','mean'])\n",
    "print(\"Grouped dataframe = \\n\",grouped)"
   ]
  },
  {
   "cell_type": "code",
   "execution_count": 27,
   "id": "71dd1940-3471-45f2-8421-d7dd6013d591",
   "metadata": {},
   "outputs": [
    {
     "name": "stdout",
     "output_type": "stream",
     "text": [
      "DataFrame = \n",
      "   Product Category  Sales\n",
      "0   Prod2        C     84\n",
      "1   Prod2        C     71\n",
      "2   Prod3        A      8\n",
      "3   Prod2        A     44\n",
      "4   Prod2        A     16\n",
      "5   Prod3        A     68\n",
      "6   Prod3        B     11\n",
      "7   Prod2        B     48\n",
      "8   Prod2        C     74\n",
      "9   Prod3        C     12\n",
      "Grouped dataframe = \n",
      " Category\n",
      "A    136\n",
      "B     59\n",
      "C    241\n",
      "Name: Sales, dtype: int32\n"
     ]
    }
   ],
   "source": [
    "#Assignment 4: Data Aggregation\n",
    "#2. Create a Pandas DataFrame with 3 columns: 'Product', 'Category', and 'Sales'. Fill the DataFrame with random data. Group the DataFrame by 'Category' and compute the total sales for each category.\n",
    "\n",
    "import pandas as pd\n",
    "import numpy as np\n",
    "\n",
    "df = pd.DataFrame({'Product': np.random.choice(['Prod1', 'Prod2', 'Prod3'], size=10), 'Category': np.random.choice(['A', 'B', 'C'], size=10), 'Sales': np.random.randint(1, 100, size=10)})\n",
    "print(\"DataFrame = \\n\",df)\n",
    "\n",
    "grouped = df.groupby('Category')['Sales'].sum()\n",
    "print(\"Grouped dataframe = \\n\",grouped)"
   ]
  },
  {
   "cell_type": "code",
   "execution_count": 32,
   "id": "af0a5bfa-3ec9-4ce8-a1e9-8683ebe5b323",
   "metadata": {},
   "outputs": [
    {
     "name": "stdout",
     "output_type": "stream",
     "text": [
      "  Key  Value\n",
      "0   A      1\n",
      "1   B      2\n",
      "2   C      3\n",
      "  Key  Value\n",
      "0   A      4\n",
      "1   B      5\n",
      "2   D      6\n",
      "  Key  Value_x  Value_y\n",
      "0   A        1        4\n",
      "1   B        2        5\n",
      "  Key  Value_x  Value_y\n",
      "0   A      1.0      4.0\n",
      "1   B      2.0      5.0\n",
      "2   C      3.0      NaN\n",
      "3   D      NaN      6.0\n",
      "  Key  Value_x  Value_y\n",
      "0   A        1      4.0\n",
      "1   B        2      5.0\n",
      "2   C        3      NaN\n",
      "  Key  Value_x  Value_y\n",
      "0   A      1.0        4\n",
      "1   B      2.0        5\n",
      "2   D      NaN        6\n"
     ]
    }
   ],
   "source": [
    "#Assignment 5: Merging DataFrames\n",
    "#1. Create two Pandas DataFrames with a common column. Merge the DataFrames using the common column.\n",
    "\n",
    "import pandas as pd\n",
    "\n",
    "df1 = pd.DataFrame({'Key':['A','B','C'],'Value':[1,2,3]})\n",
    "df2 = pd.DataFrame({'Key':['A','B','D'],'Value':[4,5,6]})\n",
    "print(df1)\n",
    "print(df2)\n",
    "print(pd.merge(df1,df2,on = \"Key\",how = \"inner\"))\n",
    "print(pd.merge(df1,df2,on = \"Key\",how = \"outer\"))\n",
    "print(pd.merge(df1,df2,on = \"Key\",how = \"left\"))\n",
    "print(pd.merge(df1,df2,on = \"Key\",how = \"right\"))"
   ]
  },
  {
   "cell_type": "code",
   "execution_count": 35,
   "id": "d9949c22-be6c-45ee-96e5-fc4e55ddca84",
   "metadata": {},
   "outputs": [
    {
     "name": "stdout",
     "output_type": "stream",
     "text": [
      "DataFrame 1 = \n",
      "     A   B\n",
      "0  41  13\n",
      "1  42  47\n",
      "2  76  86\n",
      "DataFrame 2 = \n",
      "     C   D\n",
      "0  27  59\n",
      "1  59  94\n",
      "2  60  33\n",
      "Concatenate the DataFrames along the rows = \n",
      "     A   B   C   D\n",
      "0  41  13  27  59\n",
      "1  42  47  59  94\n",
      "2  76  86  60  33\n",
      "Concatenate the DataFrames along the columns = \n",
      "       A     B     C     D\n",
      "0  41.0  13.0   NaN   NaN\n",
      "1  42.0  47.0   NaN   NaN\n",
      "2  76.0  86.0   NaN   NaN\n",
      "0   NaN   NaN  27.0  59.0\n",
      "1   NaN   NaN  59.0  94.0\n",
      "2   NaN   NaN  60.0  33.0\n"
     ]
    }
   ],
   "source": [
    "#Assignment 5: Merging DataFrames\n",
    "#2. Create two Pandas DataFrames with different columns. Concatenate the DataFrames along the rows and along the columns.\n",
    "\n",
    "import pandas as pd\n",
    "import numpy as np\n",
    "\n",
    "df1 = pd.DataFrame({'A': np.random.randint(1, 100, size=3), 'B': np.random.randint(1, 100, size=3)})\n",
    "df2 = pd.DataFrame({'C': np.random.randint(1, 100, size=3), 'D': np.random.randint(1, 100, size=3)})\n",
    "print(\"DataFrame 1 = \\n\",df1)\n",
    "print(\"DataFrame 2 = \\n\",df2)\n",
    "\n",
    "concat_rows = pd.concat([df1,df2],axis=1)\n",
    "print(\"Concatenate the DataFrames along the rows = \\n\",concat_rows)\n",
    "\n",
    "concat_columns = pd.concat([df1,df2],axis=0)\n",
    "print(\"Concatenate the DataFrames along the columns = \\n\",concat_columns)\n"
   ]
  },
  {
   "cell_type": "code",
   "execution_count": 15,
   "id": "d58e30c1-3ec0-4d59-a26f-3ec0a74af065",
   "metadata": {},
   "outputs": [
    {
     "name": "stdout",
     "output_type": "stream",
     "text": [
      "Original DataFrame:\n",
      "            data\n",
      "date            \n",
      "2022-01-01    40\n",
      "2022-01-02    64\n",
      "2022-01-03    24\n",
      "2022-01-04     3\n",
      "2022-01-05    35\n",
      "...          ...\n",
      "2022-12-27    40\n",
      "2022-12-28    61\n",
      "2022-12-29     0\n",
      "2022-12-30     7\n",
      "2022-12-31     9\n",
      "\n",
      "[365 rows x 1 columns]\n",
      "Monthly mean DataFrame:\n",
      "                 data\n",
      "date                 \n",
      "2022-01-31  48.935484\n",
      "2022-02-28  47.714286\n",
      "2022-03-31  47.677419\n",
      "2022-04-30  51.933333\n",
      "2022-05-31  53.645161\n",
      "2022-06-30  41.900000\n",
      "2022-07-31  53.290323\n",
      "2022-08-31  53.064516\n",
      "2022-09-30  51.166667\n",
      "2022-10-31  43.870968\n",
      "2022-11-30  52.933333\n",
      "2022-12-31  37.612903\n"
     ]
    }
   ],
   "source": [
    "#Assignment 6: Time Series Analysis\n",
    "#1. Create a Pandas DataFrame with a datetime index and one column filled with random integers. Resample the DataFrame to compute the monthly mean of the values.\n",
    "import pandas as pd\n",
    "import numpy as np\n",
    "\n",
    "date_rng = pd.date_range(start='2022-01-01', end='2022-12-31', freq='D')\n",
    "df = pd.DataFrame(date_rng, columns=['date'])\n",
    "df['data'] = np.random.randint(0, 100, size=(len(date_rng)))\n",
    "df.set_index('date', inplace=True)\n",
    "print(\"Original DataFrame:\")\n",
    "print(df)\n",
    "\n",
    "# Resample the DataFrame to compute the monthly mean of the values\n",
    "monthly_mean = df.resample('M').mean()\n",
    "print(\"Monthly mean DataFrame:\")\n",
    "print(monthly_mean)"
   ]
  },
  {
   "cell_type": "code",
   "execution_count": 16,
   "id": "92fb86c7-69e9-40e3-a850-434ebb98d634",
   "metadata": {},
   "outputs": [
    {
     "name": "stdout",
     "output_type": "stream",
     "text": [
      "Original DataFrame:\n",
      "            data\n",
      "date            \n",
      "2022-01-01    70\n",
      "2022-01-02    94\n",
      "2022-01-03    56\n",
      "2022-01-04    65\n",
      "2022-01-05    31\n",
      "...          ...\n",
      "2022-12-27    28\n",
      "2022-12-28    51\n",
      "2022-12-29    99\n",
      "2022-12-30    61\n",
      "2022-12-31    48\n",
      "\n",
      "[365 rows x 1 columns]\n",
      "rolling mean = \n",
      "                  data\n",
      "date                 \n",
      "2022-01-01        NaN\n",
      "2022-01-02        NaN\n",
      "2022-01-03        NaN\n",
      "2022-01-04        NaN\n",
      "2022-01-05        NaN\n",
      "...               ...\n",
      "2022-12-27  58.142857\n",
      "2022-12-28  60.142857\n",
      "2022-12-29  73.714286\n",
      "2022-12-30  68.571429\n",
      "2022-12-31  61.428571\n",
      "\n",
      "[365 rows x 1 columns]\n"
     ]
    }
   ],
   "source": [
    "#Assignment 6: Time Series Analysis\n",
    "#2. Create a Pandas DataFrame with a datetime index ranging from '2021-01-01' to '2021-12-31' and one column filled with random integers. Compute the rolling mean with a window of 7 days.\n",
    "\n",
    "import pandas as pd\n",
    "import numpy as np\n",
    "\n",
    "date_rng = pd.date_range(start='2022-01-01', end='2022-12-31', freq='D')\n",
    "df = pd.DataFrame(date_rng, columns=['date'])\n",
    "df['data'] = np.random.randint(0, 100, size=(len(date_rng)))\n",
    "df.set_index('date', inplace=True)\n",
    "print(\"Original DataFrame:\")\n",
    "print(df)\n",
    "\n",
    "rolling_mean = df.rolling(window=7).mean()\n",
    "print(\"rolling mean = \\n\",rolling_mean)"
   ]
  },
  {
   "cell_type": "code",
   "execution_count": 17,
   "id": "30b03798-821c-411d-8932-e47816137ff8",
   "metadata": {},
   "outputs": [
    {
     "name": "stdout",
     "output_type": "stream",
     "text": [
      "MultiIndex DataFrame:\n",
      "                      Value1  Value2  Value3\n",
      "Category SubCategory                        \n",
      "A        one              45      91       5\n",
      "         two              59      66      76\n",
      "B        one              73      58      53\n",
      "         two              57      71      34\n",
      "Indexing at Category 'A':\n",
      "             Value1  Value2  Value3\n",
      "SubCategory                        \n",
      "one              45      91       5\n",
      "two              59      66      76\n",
      "Slicing at Category 'B' and SubCategory 'two':\n",
      "Value1    57\n",
      "Value2    71\n",
      "Value3    34\n",
      "Name: (B, two), dtype: int32\n"
     ]
    }
   ],
   "source": [
    "#Assignment 7: MultiIndex DataFrame\n",
    "#1. Create a Pandas DataFrame with a MultiIndex (hierarchical index). Perform some basic indexing and slicing operations on the MultiIndex DataFrame.\n",
    "\n",
    "# Create a Pandas DataFrame with a MultiIndex (hierarchical index)\n",
    "arrays = [['A', 'A', 'B', 'B'], ['one', 'two', 'one', 'two']]\n",
    "index = pd.MultiIndex.from_arrays(arrays, names=('Category', 'SubCategory'))\n",
    "df = pd.DataFrame(np.random.randint(1, 100, size=(4, 3)), index=index, columns=['Value1', 'Value2', 'Value3'])\n",
    "print(\"MultiIndex DataFrame:\")\n",
    "print(df)\n",
    "\n",
    "# Basic indexing and slicing operations\n",
    "print(\"Indexing at Category 'A':\")\n",
    "print(df.loc['A'])\n",
    "\n",
    "print(\"Slicing at Category 'B' and SubCategory 'two':\")\n",
    "print(df.loc[('B', 'two')])"
   ]
  },
  {
   "cell_type": "code",
   "execution_count": 20,
   "id": "aab93a5e-92c4-4b35-919f-7c9b1e53a9c8",
   "metadata": {},
   "outputs": [
    {
     "name": "stdout",
     "output_type": "stream",
     "text": [
      "MultiIndex DataFrame:\n",
      "                      Value1  Value2  Value3\n",
      "Category SubCategory                        \n",
      "A        one              12      74      98\n",
      "         two              51      77      74\n",
      "B        one              47      97      10\n",
      "         two              42      79      30\n",
      "C        one              48      98      60\n",
      "         two              16       4      43\n",
      "Sum of the values = \n",
      "                       Value1  Value2  Value3\n",
      "Category SubCategory                        \n",
      "A        one              12      74      98\n",
      "         two              51      77      74\n",
      "B        one              47      97      10\n",
      "         two              42      79      30\n",
      "C        one              48      98      60\n",
      "         two              16       4      43\n"
     ]
    }
   ],
   "source": [
    "#Assignment 7: MultiIndex DataFrame\n",
    "#2. Create a Pandas DataFrame with MultiIndex consisting of 'Category' and 'SubCategory'. Fill the DataFrame with random data and compute the sum of values for each 'Category' and 'SubCategory'.\n",
    "\n",
    "arrays = [['A', 'A', 'B', 'B','C','C'], ['one', 'two', 'one', 'two','one', 'two']]\n",
    "index = pd.MultiIndex.from_arrays(arrays, names=('Category', 'SubCategory'))\n",
    "df = pd.DataFrame(np.random.randint(1, 100, size=(6, 3)), index=index, columns=['Value1', 'Value2', 'Value3'])\n",
    "print(\"MultiIndex DataFrame:\")\n",
    "print(df)\n",
    "\n",
    "sum_value = df.groupby(['Category', 'SubCategory']).sum()\n",
    "print(\"Sum of the values = \\n\",sum_value)\n",
    "                        "
   ]
  },
  {
   "cell_type": "code",
   "execution_count": 21,
   "id": "5525ee18-d20f-4022-89dd-0213b6038e36",
   "metadata": {},
   "outputs": [
    {
     "name": "stdout",
     "output_type": "stream",
     "text": [
      "Original DataFrame:\n",
      "         Date Category  Value\n",
      "0  2022-01-04        A     95\n",
      "1  2022-01-04        B     21\n",
      "2  2022-01-04        C     75\n",
      "3  2022-01-01        C     35\n",
      "4  2022-01-04        A     19\n",
      "5  2022-01-10        C     81\n",
      "6  2022-01-01        A     27\n",
      "7  2022-01-02        B     95\n",
      "8  2022-01-07        C     14\n",
      "9  2022-01-03        C     69\n",
      "10 2022-01-03        A     74\n",
      "11 2022-01-07        B     87\n",
      "12 2022-01-09        A     48\n",
      "13 2022-01-08        A      3\n",
      "14 2022-01-05        A     62\n",
      "15 2022-01-09        C     66\n",
      "16 2022-01-03        C      9\n",
      "17 2022-01-07        B     25\n",
      "18 2022-01-08        A     91\n",
      "19 2022-01-08        B     76\n",
      "Pivot Table:\n",
      "Category        A      B     C\n",
      "Date                          \n",
      "2022-01-01   27.0    NaN  35.0\n",
      "2022-01-02    NaN   95.0   NaN\n",
      "2022-01-03   74.0    NaN  78.0\n",
      "2022-01-04  114.0   21.0  75.0\n",
      "2022-01-05   62.0    NaN   NaN\n",
      "2022-01-07    NaN  112.0  14.0\n",
      "2022-01-08   94.0   76.0   NaN\n",
      "2022-01-09   48.0    NaN  66.0\n",
      "2022-01-10    NaN    NaN  81.0\n"
     ]
    }
   ],
   "source": [
    "#Assignment 8: Pivot Tables\n",
    "#1. Create a Pandas DataFrame with columns 'Date', 'Category', and 'Value'. Create a pivot table to compute the sum of 'Value' for each 'Category' by 'Date'.\n",
    "\n",
    "# Create a Pandas DataFrame with columns 'Date', 'Category', and 'Value'\n",
    "date_rng = pd.date_range(start='2022-01-01', end='2022-01-10', freq='D')\n",
    "df = pd.DataFrame({'Date': np.random.choice(date_rng, size=20), 'Category': np.random.choice(['A', 'B', 'C'], size=20), 'Value': np.random.randint(1, 100, size=20)})\n",
    "print(\"Original DataFrame:\")\n",
    "print(df)\n",
    "\n",
    "# Create a pivot table to compute the sum of 'Value' for each 'Category' by 'Date'\n",
    "pivot_table = df.pivot_table(values='Value', index='Date', columns='Category', aggfunc='sum')\n",
    "print(\"Pivot Table:\")\n",
    "print(pivot_table)"
   ]
  },
  {
   "cell_type": "code",
   "execution_count": 22,
   "id": "382858bb-df13-4412-aa2f-f17ce44d0fe5",
   "metadata": {},
   "outputs": [
    {
     "name": "stdout",
     "output_type": "stream",
     "text": [
      "Original DataFrame: \n",
      "     Year Quarter  Revenue\n",
      "0   2020      Q2      134\n",
      "1   2022      Q4      887\n",
      "2   2021      Q1      932\n",
      "3   2022      Q2       43\n",
      "4   2022      Q1      178\n",
      "5   2020      Q1        8\n",
      "6   2020      Q2      689\n",
      "7   2022      Q1      647\n",
      "8   2020      Q1      383\n",
      "9   2020      Q4      432\n",
      "10  2020      Q4       10\n",
      "11  2022      Q4      104\n",
      "Pivot Table: \n",
      " Quarter     Q1     Q2     Q4\n",
      "Year                        \n",
      "2020     195.5  411.5  221.0\n",
      "2021     932.0    NaN    NaN\n",
      "2022     412.5   43.0  495.5\n"
     ]
    }
   ],
   "source": [
    "#Assignment 8: Pivot Tables\n",
    "#2. Create a Pandas DataFrame with columns 'Year', 'Quarter', and 'Revenue'. Create a pivot table to compute the mean 'Revenue' for each 'Quarter' by 'Year'.\n",
    "\n",
    "df = pd.DataFrame({'Year': np.random.choice([2020, 2021, 2022], size=12), 'Quarter': np.random.choice(['Q1', 'Q2', 'Q3', 'Q4'], size=12), 'Revenue': np.random.randint(1, 1000, size=12)})\n",
    "print(\"Original DataFrame: \\n\",df)\n",
    "\n",
    "\n",
    "# Create a pivot table to compute the mean 'Revenue' for each 'Quarter' by 'Year'\n",
    "pivot_table = df.pivot_table(values='Revenue', index='Year', columns='Quarter', aggfunc='mean')\n",
    "print(\"Pivot Table: \\n\",pivot_table)\n"
   ]
  },
  {
   "cell_type": "code",
   "execution_count": 25,
   "id": "7e01b557-aad1-4a85-b3a5-b9db8de80b11",
   "metadata": {},
   "outputs": [
    {
     "name": "stdout",
     "output_type": "stream",
     "text": [
      "Dataframe = \n",
      "     A   B   C\n",
      "0  43  28  23\n",
      "1  21  26  13\n",
      "2  33  24   1\n",
      "3  18   1  13\n",
      "4  16  19  12\n",
      "Double values of the dataframe = \n",
      "     A   B   C\n",
      "0  86  56  46\n",
      "1  42  52  26\n",
      "2  66  48   2\n",
      "3  36   2  26\n",
      "4  32  38  24\n"
     ]
    }
   ],
   "source": [
    "#Assignment 9: Applying Functions\n",
    "#1. Create a Pandas DataFrame with 3 columns and 5 rows filled with random integers. Apply a function that doubles the values of the DataFrame.\n",
    "\n",
    "import pandas as pd\n",
    "import numpy as np\n",
    "\n",
    "df = pd.DataFrame(np.random.randint(1,50, size = (5,3)),columns = ['A','B','C'])\n",
    "print(\"Dataframe = \\n\",df)\n",
    "\n",
    "double_value = df.map(lambda x:x*2)\n",
    "\n",
    "print(\"Double values of the dataframe = \\n\",double_value)"
   ]
  },
  {
   "cell_type": "code",
   "execution_count": 27,
   "id": "20246b28-c232-491c-9025-0a765d8bfa2b",
   "metadata": {},
   "outputs": [
    {
     "name": "stdout",
     "output_type": "stream",
     "text": [
      "Dataframe = \n",
      "     A   B   C\n",
      "0  47  13  12\n",
      "1   1  24  25\n",
      "2  38  48  16\n",
      "3  40  22  36\n",
      "4  13  32  45\n",
      "5   1   8  46\n",
      "Final dataframe = \n",
      "     A   B   C  sum\n",
      "0  47  13  12   72\n",
      "1   1  24  25   50\n",
      "2  38  48  16  102\n",
      "3  40  22  36   98\n",
      "4  13  32  45   90\n",
      "5   1   8  46   55\n"
     ]
    }
   ],
   "source": [
    "#Assignment 9: Applying Functions\n",
    "#2. Create a Pandas DataFrame with 3 columns and 6 rows filled with random integers. Apply a lambda function to create a new column that is the sum of the existing columns.\n",
    "\n",
    "df = pd.DataFrame(np.random.randint(1,50, size = (6,3)),columns = ['A','B','C'])\n",
    "print(\"Dataframe = \\n\",df)\n",
    "\n",
    "df['sum'] = df.apply(lambda row:row.sum(),axis = 1)\n",
    "print(\"Final dataframe = \\n\",df)"
   ]
  },
  {
   "cell_type": "code",
   "execution_count": 30,
   "id": "05ef7442-6aad-41fb-981d-adf44fa0bfe2",
   "metadata": {},
   "outputs": [
    {
     "name": "stdout",
     "output_type": "stream",
     "text": [
      "series = \n",
      " 0    a\n",
      "1    b\n",
      "2    c\n",
      "3    d\n",
      "4    e\n",
      "dtype: object\n",
      "Final series = \n",
      " 0    A\n",
      "1    B\n",
      "2    C\n",
      "3    D\n",
      "4    E\n",
      "dtype: object\n"
     ]
    }
   ],
   "source": [
    "#Assignment 10: Working with Text Data\n",
    "#1. Create a Pandas Series with 5 random text strings. Convert all the strings to uppercase.\n",
    "data = pd.Series(['a','b','c','d','e'])\n",
    "print(\"series = \\n\",data)\n",
    "\n",
    "upper_case = data.str.upper()\n",
    "print(\"Final series = \\n\",upper_case)\n"
   ]
  },
  {
   "cell_type": "code",
   "execution_count": 31,
   "id": "ffba4950-4ef0-41e9-9fa9-f1f00ceaf303",
   "metadata": {},
   "outputs": [
    {
     "name": "stdout",
     "output_type": "stream",
     "text": [
      "series = \n",
      " 0    aghi\n",
      "1    bzxy\n",
      "2    cpno\n",
      "3    dhjl\n",
      "4    ejvf\n",
      "dtype: object\n",
      "the first 3 characters of each string = \n",
      " 0    agh\n",
      "1    bzx\n",
      "2    cpn\n",
      "3    dhj\n",
      "4    ejv\n",
      "dtype: object\n"
     ]
    }
   ],
   "source": [
    "#Assignment 10: Working with Text Data\n",
    "#2. Create a Pandas Series with 5 random text strings. Extract the first three characters of each string.\n",
    "\n",
    "data = pd.Series(['aghi','bzxy','cpno','dhjl','ejvf'])\n",
    "print(\"series = \\n\",data)\n",
    "\n",
    "first_three_char = data.str[:3]\n",
    "print(\"the first 3 characters of each string = \\n\",first_three_char)"
   ]
  },
  {
   "cell_type": "code",
   "execution_count": null,
   "id": "6e9864f7-8a89-4e22-b9fa-7c1db140c537",
   "metadata": {},
   "outputs": [],
   "source": []
  }
 ],
 "metadata": {
  "kernelspec": {
   "display_name": "Python 3 (ipykernel)",
   "language": "python",
   "name": "python3"
  },
  "language_info": {
   "codemirror_mode": {
    "name": "ipython",
    "version": 3
   },
   "file_extension": ".py",
   "mimetype": "text/x-python",
   "name": "python",
   "nbconvert_exporter": "python",
   "pygments_lexer": "ipython3",
   "version": "3.11.7"
  }
 },
 "nbformat": 4,
 "nbformat_minor": 5
}
