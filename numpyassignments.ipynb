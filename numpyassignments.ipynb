{
 "cells": [
  {
   "cell_type": "markdown",
   "id": "eb0439ee",
   "metadata": {},
   "source": [
    "# Module: NumPy Assignments\n",
    "## Lesson: NumPy\n",
    "### Assignment 1: Array Creation and Manipulation\n",
    "\n",
    "1. Create a NumPy array of shape (5, 5) filled with random integers between 1 and 20. Replace all the elements in the third column with 1.\n",
    "2. Create a NumPy array of shape (4, 4) with values from 1 to 16. Replace the diagonal elements with 0.\n",
    "\n",
    "### Assignment 2: Array Indexing and Slicing\n",
    "\n",
    "1. Create a NumPy array of shape (6, 6) with values from 1 to 36. Extract the sub-array consisting of the 3rd to 5th rows and 2nd to 4th columns.\n",
    "2. Create a NumPy array of shape (5, 5) with random integers. Extract the elements on the border.\n",
    "\n",
    "### Assignment 3: Array Operations\n",
    "\n",
    "1. Create two NumPy arrays of shape (3, 4) filled with random integers. Perform element-wise addition, subtraction, multiplication, and division.\n",
    "2. Create a NumPy array of shape (4, 4) with values from 1 to 16. Compute the row-wise and column-wise sum.\n",
    "\n",
    "### Assignment 4: Statistical Operations\n",
    "\n",
    "1. Create a NumPy array of shape (5, 5) filled with random integers. Compute the mean, median, standard deviation, and variance of the array.\n",
    "2. Create a NumPy array of shape (3, 3) with values from 1 to 9. Normalize the array (i.e., scale the values to have a mean of 0 and a standard deviation of 1).\n",
    "\n",
    "### Assignment 5: Broadcasting\n",
    "\n",
    "1. Create a NumPy array of shape (3, 3) filled with random integers. Add a 1D array of shape (3,) to each row of the 2D array using broadcasting.\n",
    "2. Create a NumPy array of shape (4, 4) filled with random integers. Subtract a 1D array of shape (4,) from each column of the 2D array using broadcasting.\n",
    "\n",
    "### Assignment 6: Linear Algebra\n",
    "\n",
    "1. Create a NumPy array of shape (3, 3) representing a matrix. Compute its determinant, inverse, and eigenvalues.\n",
    "2. Create two NumPy arrays of shape (2, 3) and (3, 2). Perform matrix multiplication on these arrays.\n",
    "\n",
    "### Assignment 7: Advanced Array Manipulation\n",
    "\n",
    "1. Create a NumPy array of shape (3, 3) with values from 1 to 9. Reshape the array to shape (1, 9) and then to shape (9, 1).\n",
    "2. Create a NumPy array of shape (5, 5) filled with random integers. Flatten the array and then reshape it back to (5, 5).\n",
    "\n",
    "### Assignment 8: Fancy Indexing and Boolean Indexing\n",
    "\n",
    "1. Create a NumPy array of shape (5, 5) filled with random integers. Use fancy indexing to extract the elements at the corners of the array.\n",
    "2. Create a NumPy array of shape (4, 4) filled with random integers. Use boolean indexing to set all elements greater than 10 to 10.\n",
    "\n",
    "### Assignment 9: Structured Arrays\n",
    "\n",
    "1. Create a structured array with fields 'name' (string), 'age' (integer), and 'weight' (float). Add some data and sort the array by age.\n",
    "2. Create a structured array with fields 'x' and 'y' (both integers). Add some data and compute the Euclidean distance between each pair of points.\n",
    "\n",
    "### Assignment 10: Masked Arrays\n",
    "\n",
    "1. Create a masked array of shape (4, 4) with random integers and mask the elements greater than 10. Compute the sum of the unmasked elements.\n",
    "2. Create a masked array of shape (3, 3) with random integers and mask the diagonal elements. Replace the masked elements with the mean of the unmasked elements."
   ]
  },
  {
   "cell_type": "code",
   "execution_count": 3,
   "id": "33d565f3",
   "metadata": {},
   "outputs": [
    {
     "name": "stdout",
     "output_type": "stream",
     "text": [
      "Original Array =  [[ 8  1 11  4 15]\n",
      " [19 19 13  3 17]\n",
      " [20  8 11 11  7]\n",
      " [ 2 16  6 13  6]\n",
      " [18 17  5 16  7]]\n",
      "Modified Array =  [[ 8  1  1  4 15]\n",
      " [19 19  1  3 17]\n",
      " [20  8  1 11  7]\n",
      " [ 2 16  1 13  6]\n",
      " [18 17  1 16  7]]\n"
     ]
    }
   ],
   "source": [
    "#Assignment 1: Array Creation and Manipulation\n",
    "#1. Create a NumPy array of shape (5, 5) filled with random integers between 1 and 20. Replace all the elements in the third column with 1.\n",
    "\n",
    "import numpy as np\n",
    "\n",
    "array = np.random.randint(1,21,size = (5,5))\n",
    "print(\"Original Array = \",array)\n",
    "\n",
    "array[:,2] = 1\n",
    "print(\"Modified Array = \",array)\n"
   ]
  },
  {
   "cell_type": "code",
   "execution_count": 7,
   "id": "2b36b6a7-b9d3-4704-8945-6c6d31d8c7bb",
   "metadata": {},
   "outputs": [
    {
     "name": "stdout",
     "output_type": "stream",
     "text": [
      "Original Array =  [[ 1  2  3  4]\n",
      " [ 5  6  7  8]\n",
      " [ 9 10 11 12]\n",
      " [13 14 15 16]]\n",
      "Modified Array =  [[ 0  2  3  4]\n",
      " [ 5  0  7  8]\n",
      " [ 9 10  0 12]\n",
      " [13 14 15  0]]\n"
     ]
    }
   ],
   "source": [
    "#Assignment 1: Array Creation and Manipulation\n",
    "#2. Create a NumPy array of shape (4, 4) with values from 1 to 16. Replace the diagonal elements with 0.\n",
    "\n",
    "array = np.arange(1,17).reshape((4,4))\n",
    "print(\"Original Array = \",array)\n",
    "\n",
    "np.fill_diagonal(array, 0)\n",
    "print(\"Modified Array = \",array)"
   ]
  },
  {
   "cell_type": "code",
   "execution_count": 8,
   "id": "84e5d331-c5ac-4b5f-986e-690d88ed33d1",
   "metadata": {},
   "outputs": [
    {
     "name": "stdout",
     "output_type": "stream",
     "text": [
      "Full Array =  [[ 1  2  3  4  5  6]\n",
      " [ 7  8  9 10 11 12]\n",
      " [13 14 15 16 17 18]\n",
      " [19 20 21 22 23 24]\n",
      " [25 26 27 28 29 30]\n",
      " [31 32 33 34 35 36]]\n",
      "Sub_Array =  [[14 15 16]\n",
      " [20 21 22]\n",
      " [26 27 28]]\n"
     ]
    }
   ],
   "source": [
    "#Assignment 2: Array Indexing and Slicing\n",
    "#1.Create a NumPy array of shape (6, 6) with values from 1 to 36. Extract the sub-array consisting of the 3rd to 5th rows and 2nd to 4th columns.\n",
    "\n",
    "array = np.arange(1,37).reshape((6,6))\n",
    "print(\"Full Array = \",array)\n",
    "\n",
    "sub_array = array[2:5,1:4]\n",
    "print(\"Sub_Array = \",sub_array)"
   ]
  },
  {
   "cell_type": "code",
   "execution_count": 11,
   "id": "b089acf3-a5f9-4c37-bcbd-4ebea5a605b6",
   "metadata": {},
   "outputs": [
    {
     "name": "stdout",
     "output_type": "stream",
     "text": [
      "Array =  [[ 5  8  2  5 14]\n",
      " [ 5 20 14 11 20]\n",
      " [13 13 13  7  6]\n",
      " [16  3  7 12  8]\n",
      " [ 9 11  2  4  3]]\n",
      "Border elements =  [ 5  8  2  5 14  9 11  2  4  3  5 13 16 20  6  8]\n"
     ]
    }
   ],
   "source": [
    "#Assignment 2: Array Indexing and Slicing\n",
    "#2.Create a NumPy array of shape (5, 5) with random integers. Extract the elements on the border.\n",
    "\n",
    "array = np.random.randint(1,21,size = (5,5))\n",
    "print(\"Array = \",array)\n",
    "\n",
    "border_elements = np.concatenate((array[0, :], array[-1, :], array[1:-1, 0], array[1:-1, -1]))\n",
    "print(\"Border elements = \",border_elements)\n",
    "\n"
   ]
  },
  {
   "cell_type": "code",
   "execution_count": 15,
   "id": "a9ee787b-b87d-4184-b4b1-55aed3c01af2",
   "metadata": {},
   "outputs": [
    {
     "name": "stdout",
     "output_type": "stream",
     "text": [
      "Array1 =  [[8 5 2 5]\n",
      " [6 1 5 9]\n",
      " [9 9 7 5]]\n",
      "Array2 =  [[6 6 2 3]\n",
      " [8 7 1 4]\n",
      " [5 6 5 4]]\n",
      "element-wise addition =  [[14 11  4  8]\n",
      " [14  8  6 13]\n",
      " [14 15 12  9]]\n",
      "element-wise subtraction =  [[ 2 -1  0  2]\n",
      " [-2 -6  4  5]\n",
      " [ 4  3  2  1]]\n",
      "element-wise multiplication =  [[48 30  4 15]\n",
      " [48  7  5 36]\n",
      " [45 54 35 20]]\n",
      "element wise division =  [[1.33333333 0.83333333 1.         1.66666667]\n",
      " [0.75       0.14285714 5.         2.25      ]\n",
      " [1.8        1.5        1.4        1.25      ]]\n"
     ]
    }
   ],
   "source": [
    "#Assignment 3: Array Operations\n",
    "#1.Create two NumPy arrays of shape (3, 4) filled with random integers. Perform element-wise addition, subtraction, multiplication, and division.\n",
    "\n",
    "arr1 = np.random.randint(1,10, size = (3, 4))\n",
    "arr2 = np.random.randint(1,10, size = (3, 4))\n",
    "\n",
    "print(\"Array1 = \",arr1)\n",
    "print(\"Array2 = \",arr2)\n",
    "print(\"element-wise addition = \",arr1 + arr2)\n",
    "print(\"element-wise subtraction = \",arr1-arr2)\n",
    "print(\"element-wise multiplication = \",arr1*arr2)\n",
    "print(\"element wise division = \",arr1/arr2)"
   ]
  },
  {
   "cell_type": "code",
   "execution_count": 17,
   "id": "dc0bffe9-fff8-4355-947f-fb7767c5721f",
   "metadata": {},
   "outputs": [
    {
     "name": "stdout",
     "output_type": "stream",
     "text": [
      "Array =  [[ 1  2  3  4]\n",
      " [ 5  6  7  8]\n",
      " [ 9 10 11 12]\n",
      " [13 14 15 16]]\n",
      "Sum of all elements in row =  [10 26 42 58]\n",
      "Sum of all elements in Column =  [28 32 36 40]\n"
     ]
    }
   ],
   "source": [
    "#Assignment 3: Array Operations\n",
    "#Create a NumPy array of shape (4, 4) with values from 1 to 16. Compute the row-wise and column-wise sum.\n",
    "array = np.arange(1,17).reshape((4,4))\n",
    "print(\"Array = \",array)\n",
    "\n",
    "row_sum = np.sum(array, axis = 1)\n",
    "col_sum = np.sum(array, axis = 0)\n",
    "print(\"Sum of all elements in row = \",row_sum)\n",
    "print(\"Sum of all elements in Column = \",col_sum)"
   ]
  },
  {
   "cell_type": "code",
   "execution_count": 21,
   "id": "a76c31ae-97bf-4fde-b557-205260261b72",
   "metadata": {},
   "outputs": [
    {
     "name": "stdout",
     "output_type": "stream",
     "text": [
      "Array =  [[4 2 1 4 8]\n",
      " [2 3 5 2 4]\n",
      " [3 5 1 6 1]\n",
      " [4 5 9 1 6]\n",
      " [2 9 9 1 4]]\n",
      "Mean =  4.04\n",
      "Median =  4.0\n",
      "standard deviation =  2.5687350972803715\n",
      "variance =  6.598400000000001\n",
      "Normalized_array =  [[-0.01557187 -0.79416519 -1.18346185 -0.01557187  1.54161478]\n",
      " [-0.79416519 -0.40486853  0.3737248  -0.79416519 -0.01557187]\n",
      " [-0.40486853  0.3737248  -1.18346185  0.76302146 -1.18346185]\n",
      " [-0.01557187  0.3737248   1.93091145 -1.18346185  0.76302146]\n",
      " [-0.79416519  1.93091145  1.93091145 -1.18346185 -0.01557187]]\n"
     ]
    }
   ],
   "source": [
    "#Assignment 4: Statistical Operations\n",
    "#1. Create a NumPy array of shape (5, 5) filled with random integers. Compute the mean, median, standard deviation,normalized_array and variance of the array.\n",
    "#2. Create a NumPy array of shape (3, 3) with values from 1 to 9. Normalize the array.\n",
    "array = np.random.randint(1,10,size=(5,5))\n",
    "print(\"Array = \",array)\n",
    "\n",
    "mean = np.mean(array)\n",
    "median = np.median(array)\n",
    "std_dev = np.std(array)\n",
    "var = np.var(array)\n",
    "normalized_array = (array-mean)/std_dev\n",
    "print(\"Mean = \",mean)\n",
    "print(\"Median = \",median)\n",
    "print(\"standard deviation = \",std_dev)\n",
    "print(\"variance = \",var)\n",
    "print(\"Normalized_array = \",normalized_array)"
   ]
  },
  {
   "cell_type": "code",
   "execution_count": 32,
   "id": "4feb18f4-326b-4e66-a759-c956a9f5e89c",
   "metadata": {},
   "outputs": [
    {
     "name": "stdout",
     "output_type": "stream",
     "text": [
      "Array =  [[5 4 7]\n",
      " [9 8 4]\n",
      " [1 6 6]]\n",
      "Row Array =  [5 4 1]\n",
      "Final Array =  [[10  9 12]\n",
      " [13 12  8]\n",
      " [ 2  7  7]]\n"
     ]
    }
   ],
   "source": [
    "#Assignment 5: Broadcasting\n",
    "#1. Create a NumPy array of shape (3, 3) filled with random integers. Add a 1D array of shape (3,) to each row of the 2D array using broadcasting.\n",
    "\n",
    "arr = np.random.randint(1,10,size=(3,3))\n",
    "print(\"Array = \",arr)\n",
    "row_arr = np.random.randint(1,10,size=(3,))\n",
    "print(\"Row Array = \",row_arr)\n",
    "\n",
    "final_arr = arr + row_arr[:, np.newaxis]\n",
    "print(\"Final Array = \",final_arr)"
   ]
  },
  {
   "cell_type": "code",
   "execution_count": 31,
   "id": "853b67d7-b3e6-46f3-9680-dac2a8b10f47",
   "metadata": {},
   "outputs": [
    {
     "name": "stdout",
     "output_type": "stream",
     "text": [
      "Array =  [[2 2 2 5]\n",
      " [8 5 9 9]\n",
      " [8 4 1 2]\n",
      " [4 4 1 4]]\n",
      "Row Array =  [2 9 3 8]\n",
      "Final Array =  [[ 0  0  0  3]\n",
      " [-1 -4  0  0]\n",
      " [ 5  1 -2 -1]\n",
      " [-4 -4 -7 -4]]\n"
     ]
    }
   ],
   "source": [
    "#Assignment 5: Broadcasting\n",
    "#2. Create a NumPy array of shape (4, 4) filled with random integers. Subtract a 1D array of shape (4,) from each column of the 2D array using broadcasting.\n",
    "\n",
    "arr = np.random.randint(1,10,size=(4,4))\n",
    "print(\"Array = \",arr)\n",
    "\n",
    "col_arr = np.random.randint(1,10,size=(4,))\n",
    "print(\"Row Array = \",col_arr)\n",
    "\n",
    "final_arr = arr - col_arr[:, np.newaxis]\n",
    "print(\"Final Array = \",final_arr)"
   ]
  },
  {
   "cell_type": "code",
   "execution_count": 34,
   "id": "a7784f4b-72fc-48c3-84bb-522c387ee9b2",
   "metadata": {},
   "outputs": [
    {
     "name": "stdout",
     "output_type": "stream",
     "text": [
      "Array =  [[9 2 5]\n",
      " [1 6 6]\n",
      " [9 4 6]]\n",
      "Determinant: 187.00000000000003\n",
      "Inverse:\n",
      "[[ 0.17647059 -0.11764706  0.05882353]\n",
      " [ 0.14973262  0.11229947 -0.10160428]\n",
      " [-0.30481283  0.02139037  0.17112299]]\n",
      "Eigenvalues: [15.13384914+0.j          2.43307543+2.53703587j  2.43307543-2.53703587j]\n"
     ]
    }
   ],
   "source": [
    "#Assignment 6: Linear Algebra\n",
    "#Create a NumPy array of shape (3, 3) representing a matrix. Compute its determinant, inverse, and eigenvalues.\n",
    "\n",
    "matrix = np.random.randint(1,10,size=(3,3))\n",
    "print(\"Array = \",arr)\n",
    "\n",
    "determinant = np.linalg.det(matrix)\n",
    "print(\"Determinant:\", determinant)\n",
    "\n",
    "inverse = np.linalg.inv(matrix)\n",
    "print(\"Inverse:\")\n",
    "print(inverse)\n",
    "\n",
    "eigenvalues = np.linalg.eigvals(matrix)\n",
    "print(\"Eigenvalues:\", eigenvalues)"
   ]
  },
  {
   "cell_type": "code",
   "execution_count": 36,
   "id": "3af871e0-e96c-4359-be92-4a5d69b4903f",
   "metadata": {},
   "outputs": [
    {
     "name": "stdout",
     "output_type": "stream",
     "text": [
      "Array1 =  [[2 4 1]\n",
      " [1 2 9]]\n",
      "Array1 =  [[7 8]\n",
      " [7 5]\n",
      " [1 5]]\n",
      "matrix multiplication =  [[43 41]\n",
      " [30 63]]\n"
     ]
    }
   ],
   "source": [
    "#Assignment 6: Linear Algebra\n",
    "#2. Create two NumPy arrays of shape (2, 3) and (3, 2). Perform matrix multiplication on these arrays.\n",
    "\n",
    "arr1 = np.random.randint(1,10,size=(2,3))\n",
    "print(\"Array1 = \",arr1)\n",
    "arr2 = np.random.randint(1,10,size=(3,2))\n",
    "print(\"Array1 = \",arr2)\n",
    "\n",
    "matrix_multiplication = np.dot(arr1, arr2)\n",
    "print(\"matrix multiplication = \",matrix_multiplication)"
   ]
  },
  {
   "cell_type": "code",
   "execution_count": 39,
   "id": "47fe5b41-34c3-476a-a1f1-0bbfbd280104",
   "metadata": {},
   "outputs": [
    {
     "name": "stdout",
     "output_type": "stream",
     "text": [
      "Array =  [[1 2 3]\n",
      " [4 5 6]\n",
      " [7 8 9]]\n",
      "Reshape the array to shape (1, 9) =  [[1 2 3 4 5 6 7 8 9]]\n",
      "Reshape the array to shape (9, 1) =  [[1]\n",
      " [2]\n",
      " [3]\n",
      " [4]\n",
      " [5]\n",
      " [6]\n",
      " [7]\n",
      " [8]\n",
      " [9]]\n"
     ]
    }
   ],
   "source": [
    "#Assignment 7: Advanced Array Manipulation\n",
    "#1. Create a NumPy array of shape (3, 3) with values from 1 to 9. Reshape the array to shape (1, 9) and then to shape (9, 1).\n",
    "arr = np.arange(1,10).reshape((3,3))\n",
    "print(\"Array = \",arr)\n",
    "arr1 = arr.reshape((1, 9))\n",
    "print(\"Reshape the array to shape (1, 9) = \",arr1)\n",
    "arr2 = arr1.reshape((9, 1))\n",
    "print(\"Reshape the array to shape (9, 1) = \",arr2)"
   ]
  },
  {
   "cell_type": "code",
   "execution_count": 40,
   "id": "e0d2ccd0-a148-4cfd-be59-9144e33f9e61",
   "metadata": {},
   "outputs": [
    {
     "name": "stdout",
     "output_type": "stream",
     "text": [
      "Array =  [[2 4 6 7 7]\n",
      " [3 7 2 5 7]\n",
      " [5 4 2 1 1]\n",
      " [1 6 3 5 4]\n",
      " [4 4 4 8 9]]\n",
      "Flatten the array =  [2 4 6 7 7 3 7 2 5 7 5 4 2 1 1 1 6 3 5 4 4 4 4 8 9]\n",
      "Reshaped array =  [[2 4 6 7 7]\n",
      " [3 7 2 5 7]\n",
      " [5 4 2 1 1]\n",
      " [1 6 3 5 4]\n",
      " [4 4 4 8 9]]\n"
     ]
    }
   ],
   "source": [
    "#Assignment 7: Advanced Array Manipulation\n",
    "#2. Create a NumPy array of shape (5, 5) filled with random integers. Flatten the array and then reshape it back to (5, 5).\n",
    "\n",
    "arr = np.random.randint(1,10,size=(5,5))\n",
    "print(\"Array = \",arr)\n",
    "\n",
    "flatten_arr = arr.flatten()\n",
    "print(\"Flatten the array = \",flatten_arr)\n",
    "\n",
    "reshaped_arr = flatten_arr.reshape(5,5)\n",
    "print(\"Reshaped array = \",reshaped_arr)"
   ]
  },
  {
   "cell_type": "code",
   "execution_count": 41,
   "id": "220cc8e3-1f29-454b-afc8-d88395642e8f",
   "metadata": {},
   "outputs": [
    {
     "name": "stdout",
     "output_type": "stream",
     "text": [
      "Array =  [[4 6 3 6 8]\n",
      " [4 9 4 7 2]\n",
      " [7 3 7 5 5]\n",
      " [1 2 9 5 9]\n",
      " [5 7 5 5 6]]\n",
      "The elements at the corners of the array =  [4 8 5 6]\n"
     ]
    }
   ],
   "source": [
    "#Assignment 8:Fancy Indexing and Boolean Indexing\n",
    "#1. Create a NumPy array of shape (5, 5) filled with random integers. Use fancy indexing to extract the elements at the corners of the array.\n",
    "\n",
    "arr = np.random.randint(1,10,size=(5,5))\n",
    "print(\"Array = \",arr)\n",
    "\n",
    "corners = arr[[0,0,-1,-1],[0,-1,0,-1]]\n",
    "print(\"The elements at the corners of the array = \",corners)"
   ]
  },
  {
   "cell_type": "code",
   "execution_count": 42,
   "id": "1c7a88b1-f1e1-4e07-85e3-c93be706cc88",
   "metadata": {},
   "outputs": [
    {
     "name": "stdout",
     "output_type": "stream",
     "text": [
      "Array =  [[5 8 1 3]\n",
      " [8 6 7 1]\n",
      " [6 5 5 6]\n",
      " [3 5 4 8]]\n",
      "Modified Array =  [[5 8 1 3]\n",
      " [8 6 7 1]\n",
      " [6 5 5 6]\n",
      " [3 5 4 8]]\n"
     ]
    }
   ],
   "source": [
    "#Assignment 8:Fancy Indexing and Boolean Indexing\n",
    "#Create a NumPy array of shape (4, 4) filled with random integers. Use boolean indexing to set all elements greater than 10 to 10.\n",
    "\n",
    "arr = np.random.randint(1,10,size=(4,4))\n",
    "print(\"Array = \",arr)\n",
    "\n",
    "arr[arr > 10] = 10\n",
    "print(\"Modified Array = \",arr)\n"
   ]
  },
  {
   "cell_type": "code",
   "execution_count": 43,
   "id": "8cfdc0fa-c2bb-41df-8ba1-4f1386e85105",
   "metadata": {},
   "outputs": [
    {
     "name": "stdout",
     "output_type": "stream",
     "text": [
      "Original array =  [('Alice', 25, 55.5) ('Bob', 30, 85.3) ('Charlie', 20, 65.2)]\n",
      "Sorted array by age =  [('Charlie', 20, 65.2) ('Alice', 25, 55.5) ('Bob', 30, 85.3)]\n"
     ]
    }
   ],
   "source": [
    "#Assignment 9: Structured Arrays\n",
    "#1. Create a structured array with fields 'name' (string), 'age' (integer), and 'weight' (float). Add some data and sort the array by age.\n",
    "\n",
    "data_type = [('name', 'U10'), ('age', 'i4'), ('weight', 'f4')]\n",
    "data = np.array([('Alice', 25, 55.5), ('Bob', 30, 85.3), ('Charlie', 20, 65.2)], dtype=data_type)\n",
    "print(\"Original array = \",data)\n",
    "\n",
    "# Sort the array by age\n",
    "sorted_data = np.sort(data, order='age')\n",
    "print(\"Sorted array by age = \",sorted_data)\n"
   ]
  },
  {
   "cell_type": "code",
   "execution_count": 49,
   "id": "99da72af-afc9-4113-81e6-d293d5839076",
   "metadata": {},
   "outputs": [
    {
     "name": "stdout",
     "output_type": "stream",
     "text": [
      "Original array =  [(2, 3) (3, 5) (1, 2)]\n",
      "Euclidean distances =  [[0.         2.23606798 1.41421356]\n",
      " [2.23606798 0.         3.60555128]\n",
      " [1.41421356 3.60555128 0.        ]]\n"
     ]
    }
   ],
   "source": [
    "#Assignment 9: Structured Arrays\n",
    "#2.Create a structured array with fields 'x' and 'y' (both integers). Add some data and compute the Euclidean distance between each pair of points.\n",
    "data_type = [('x','i4'),('y','i4')]\n",
    "data = np.array([(2,3),(3,5),(1,2)],dtype=data_type)\n",
    "print(\"Original array = \",data)\n",
    "\n",
    "distances = np.sqrt((data['x'][:, np.newaxis] - data['x'])**2 + (data['y'][:, np.newaxis] - data['y'])**2)\n",
    "print(\"Euclidean distances = \",distances)"
   ]
  },
  {
   "cell_type": "code",
   "execution_count": 52,
   "id": "b920d44d-3575-4c93-89ec-2d61464d2cbc",
   "metadata": {},
   "outputs": [
    {
     "name": "stdout",
     "output_type": "stream",
     "text": [
      "Array =  [[1 9 7 5]\n",
      " [5 2 6 4]\n",
      " [1 5 1 7]\n",
      " [4 5 9 9]]\n",
      "Masked Array =  [[1 9 7 5]\n",
      " [5 2 6 4]\n",
      " [1 5 1 7]\n",
      " [4 5 9 9]]\n",
      "Unmasked Array sum =  80\n"
     ]
    }
   ],
   "source": [
    "#Assignment 10: Masked Arrays\n",
    "#1. Create a masked array of shapes (4, 4) with random integers and mask the elements greater than 10. Compute the sum of the unmasked elements.\n",
    "\n",
    "import numpy.ma as ma\n",
    "\n",
    "arr = np.random.randint(1,10,size=(4,4))\n",
    "print(\"Array = \",arr)\n",
    "\n",
    "masked_arr = ma.masked_greater(arr,10)\n",
    "print(\"Masked Array = \",masked_arr)\n",
    "\n",
    "sum_unmasked = masked_arr.sum()\n",
    "print(\"Unmasked Array sum = \",sum_unmasked)\n"
   ]
  },
  {
   "cell_type": "code",
   "execution_count": 53,
   "id": "9af1a4d1-5786-40db-8d2d-c966bba5a68a",
   "metadata": {},
   "outputs": [
    {
     "name": "stdout",
     "output_type": "stream",
     "text": [
      "Original array: [[ 1  7 19]\n",
      " [ 6  1 10]\n",
      " [18  5  5]]\n",
      "Masked array: [[-- 7 19]\n",
      " [6 -- 10]\n",
      " [18 5 --]]\n",
      "Modified masked array: [[10  7 19]\n",
      " [ 6 10 10]\n",
      " [18  5 10]]\n"
     ]
    }
   ],
   "source": [
    "#Assignment 10: Masked Arrays\n",
    "#2. Create a masked array of shape (3, 3) with random integers and mask the diagonal elements. Replace the masked elements with the mean of the unmasked elements\n",
    "array = np.random.randint(1, 21, size=(3, 3))\n",
    "print(\"Original array:\",array)\n",
    "\n",
    "masked_array = ma.masked_array(array, mask=np.eye(3, dtype=bool))\n",
    "print(\"Masked array:\",masked_array)\n",
    "\n",
    "mean_unmasked = masked_array.mean()\n",
    "masked_array = masked_array.filled(mean_unmasked)\n",
    "print(\"Modified masked array:\",masked_array)\n"
   ]
  },
  {
   "cell_type": "code",
   "execution_count": null,
   "id": "583aecaf-b4dc-4e6c-bde6-113739ca2777",
   "metadata": {},
   "outputs": [],
   "source": []
  }
 ],
 "metadata": {
  "kernelspec": {
   "display_name": "Python 3 (ipykernel)",
   "language": "python",
   "name": "python3"
  },
  "language_info": {
   "codemirror_mode": {
    "name": "ipython",
    "version": 3
   },
   "file_extension": ".py",
   "mimetype": "text/x-python",
   "name": "python",
   "nbconvert_exporter": "python",
   "pygments_lexer": "ipython3",
   "version": "3.11.7"
  }
 },
 "nbformat": 4,
 "nbformat_minor": 5
}
